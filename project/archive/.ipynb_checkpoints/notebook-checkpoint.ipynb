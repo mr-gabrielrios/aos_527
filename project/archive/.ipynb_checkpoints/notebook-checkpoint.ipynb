{
 "cells": [
  {
   "cell_type": "markdown",
   "id": "db72241a-09d2-43b3-87ca-e1caafdd30c7",
   "metadata": {},
   "source": [
    "## AOS 527 Class Project"
   ]
  },
  {
   "cell_type": "markdown",
   "id": "42cfbf19-0484-4fb7-812a-ef969a9b75e4",
   "metadata": {},
   "source": [
    "### Imports"
   ]
  },
  {
   "cell_type": "code",
   "execution_count": 681,
   "id": "dd530821-45bd-46a6-b65d-e34b93a7d79a",
   "metadata": {},
   "outputs": [],
   "source": [
    "# Numerical analysis packages\n",
    "import numpy as np\n",
    "import pandas as pd\n",
    "# Visualization packages\n",
    "import matplotlib.pyplot as plt\n",
    "# Auxiliary packages\n",
    "import os"
   ]
  },
  {
   "cell_type": "markdown",
   "id": "32fd0afa-6ade-4478-afad-9887d45b6c9f",
   "metadata": {},
   "source": [
    "### Auxiliary functions"
   ]
  },
  {
   "cell_type": "markdown",
   "id": "c51fb591-6da1-418f-9ce4-e62381571e8d",
   "metadata": {},
   "source": [
    "#### Derive the band-averaged wavenumber"
   ]
  },
  {
   "cell_type": "code",
   "execution_count": 754,
   "id": "2dbdd087-f58a-4fdb-a2f6-962088719d58",
   "metadata": {},
   "outputs": [],
   "source": [
    "def band_info(band=None):\n",
    "    # Define headers\n",
    "    header = ['band', 'min', 'max']\n",
    "    # Import data and set index to be band number\n",
    "    bands = pd.read_csv('data/bands_info.csv', names=header).set_index('band')\n",
    "    # Adjust units from cm^-1 to m^-1\n",
    "    bands = bands*100\n",
    "    # Calculate mean across each band\n",
    "    bands['mean'] = bands.mean(axis=1)\n",
    "\n",
    "    if band == 'all':\n",
    "        return bands\n",
    "    else:\n",
    "        return bands.iloc[band-1]"
   ]
  },
  {
   "cell_type": "markdown",
   "id": "2e1e84e1-f522-4b74-bfc4-ba99a3ebc0aa",
   "metadata": {},
   "source": [
    "#### Get gas names"
   ]
  },
  {
   "cell_type": "code",
   "execution_count": 755,
   "id": "e0205fad-ae43-4262-9c6c-19061d08d2be",
   "metadata": {},
   "outputs": [],
   "source": [
    "def gas_names():\n",
    "    ''' Method to load names of gases for which data is available. '''\n",
    "    \n",
    "    # Define folder name where data files are stored\n",
    "    dirname = 'data'\n",
    "    # Get unique gas names\n",
    "    gases = sorted(set([os.path.join(dirname, file).split('_')[-2] for file in os.listdir(dirname) if 'CIRC' in file]))\n",
    "    \n",
    "    return gases"
   ]
  },
  {
   "cell_type": "markdown",
   "id": "cc45e1bb-48ff-46b9-ab0a-3bb092a2ec17",
   "metadata": {},
   "source": [
    "#### Import files and build data structure"
   ]
  },
  {
   "cell_type": "code",
   "execution_count": 756,
   "id": "17a92132-0190-4e6a-a328-87d0001c5948",
   "metadata": {},
   "outputs": [],
   "source": [
    "def load(gas_name='ALLGAS', atmosphere='CIRC2'):\n",
    "    ''' Method to load line-by-line transmittance data.\n",
    "    \n",
    "    Inputs:\n",
    "        - gas_name: Name of the gas for which data will be loaded. Default is 'ALLGAS'.\n",
    "        - atmosphere: Name of the CIRC profile data will be loaded for.\n",
    "    Outputs:\n",
    "        - gas_data: Pandas Dataframe with data for the selected gas.\n",
    "        \n",
    "    '''\n",
    "\n",
    "    # Define folder name where data files are stored\n",
    "    dirname = 'data'\n",
    "    # Get all paths for files where data that meets criteria is stored\n",
    "    files = [os.path.join(dirname, file) for file in os.listdir(dirname) if (gas_name in file) and (atmosphere in file)]\n",
    "    # Define column header names (see project description document)\n",
    "    header = ['tb_{0}'.format(i-1) for i in range(2, 14+2)]\n",
    "    header.insert(0, 'layer_pres')\n",
    "    header.insert(0, 'layer_temp')\n",
    "    # Initialize output Dataframe\n",
    "    gas_data = []\n",
    "    # Fill Dataframe iteratively (iteration used to construct auxiliary data columns)\n",
    "    for file in files:\n",
    "        # Load data\n",
    "        tmp = pd.read_csv(file, sep='\\s+', names=header)\n",
    "        # Add column with atmospheric profile of data\n",
    "        tmp['atm_profile'] = file.split('/')[-1].split('_')[0]\n",
    "        # Add column with gas name\n",
    "        tmp['gas'] = file.split('/')[-1].split('_')[-2]\n",
    "        # Add column with level\n",
    "        tmp['level'] = file.split('.')[0].split('_')[-1]\n",
    "        # Append to list\n",
    "        gas_data.append(tmp)\n",
    "    # Concatenate Dataframes\n",
    "    gas_data = pd.concat(gas_data).reset_index(drop=True)\n",
    "    \n",
    "    return gas_data"
   ]
  },
  {
   "cell_type": "markdown",
   "id": "8b150608-2ed2-4b62-aca2-d677824a6767",
   "metadata": {},
   "source": [
    "#### Planck function\n",
    "Reference: Goody, Eq. 2.38"
   ]
  },
  {
   "cell_type": "code",
   "execution_count": 757,
   "id": "479a1849-5406-4bbb-beea-e6069232ffa0",
   "metadata": {},
   "outputs": [],
   "source": [
    "def B_lambda(T, lambda_=None):\n",
    "    ''' \n",
    "    Planck function for a given temperature (in K) and band number. \n",
    "    Reference Goody, Eq. 2.38. \n",
    "    '''\n",
    "    \n",
    "    # Speed of light {c} (m s^-1)\n",
    "    c = 3e8\n",
    "    # Planck constant {h} (m^2 kg s^-1)\n",
    "    h = 6.626e-34\n",
    "    # Boltzmann constant {k} (m^2 kg s^-2 K^-1)\n",
    "    k = 1.381e-23\n",
    "    # Source function, B_{\\nu}\n",
    "    C1 = 2*np.pi*h*c**2\n",
    "    C2 = h*c/k\n",
    "    B = C1/(np.pi*lambda_**5*(np.exp(C2/(lambda_*T))-1))\n",
    "    \n",
    "    return B"
   ]
  },
  {
   "cell_type": "markdown",
   "id": "896d421f-ab9a-4d2e-93b6-0e9ba7c46c61",
   "metadata": {},
   "source": [
    "#### Stefan-Boltzmann"
   ]
  },
  {
   "cell_type": "code",
   "execution_count": 686,
   "id": "29d74d3f-0623-487a-9ac7-bb21cddbc6b0",
   "metadata": {},
   "outputs": [],
   "source": [
    "def sb(T):\n",
    "    return 5.67e-8 * T**4"
   ]
  },
  {
   "cell_type": "code",
   "execution_count": 731,
   "id": "2d79b325-b417-4d9a-9e28-67cad7b68cb2",
   "metadata": {},
   "outputs": [],
   "source": [
    "def fd(T, lambda_min, lambda_max):\n",
    "    \n",
    "    # print('\\t {0:.2e}, {1:.2e}'.format(lambda_min, lambda_max))\n",
    "    F = np.pi*abs((B_lambda(T, lambda_=lambda_max) - B_lambda(T, lambda_=lambda_min))*(lambda_max - lambda_min)/2)\n",
    "    \n",
    "    return F"
   ]
  },
  {
   "cell_type": "markdown",
   "id": "756a8007-ac00-4990-8d41-2f42bb57e135",
   "metadata": {},
   "source": [
    "#### Expression to calculate flux\n",
    "References:\n",
    "- Michael Richmond @ RIT: http://spiff.rit.edu/classes/phys317/lectures/planck.htmlhttp://spiff.rit.edu/classes/phys317/lectures/planck.html\n",
    "- Goody: Eq. 4.1\n"
   ]
  },
  {
   "cell_type": "code",
   "execution_count": 759,
   "id": "c6d35ca9-48c7-4cb7-a834-afbd27f13615",
   "metadata": {},
   "outputs": [],
   "source": [
    "def flux(T, bands=None):\n",
    "\n",
    "    ''' Define constants. '''\n",
    "    \n",
    "    # Speed of light {c} (m s^-1)\n",
    "    c = 3e8\n",
    "    # Planck constant {h} (m^2 kg s^-1)\n",
    "    h = 6.626e-34\n",
    "    # Boltzmann constant {k} (m^2 kg s^-2 K^-1)\n",
    "    k = 1.381e-23\n",
    "    \n",
    "    ''' Initialize output values. '''\n",
    "    # Sum of fluxes over selected bands.\n",
    "    F = 0\n",
    "    # Number of points to discretize every interval by\n",
    "    points = 50\n",
    "    \n",
    "    ''' Iterate over wavelength band(s) and calculate intensities and fluxes. '''\n",
    "    \n",
    "    fig, ax = plt.subplots(figsize=(4, 4))\n",
    "    ax.set_xscale('log')\n",
    "    ax.set_yscale('log')\n",
    "    ax.set_xlabel('Wavelength ($\\lambda$) [m]')\n",
    "    ax.set_ylabel('Flux [W m$^{-2}$]')\n",
    "        \n",
    "    if bands == 'all':\n",
    "        bands = range(0, 15)\n",
    "    \n",
    "    for band in bands:\n",
    "        # Get band wavenumber limits (\\tilde{\\nu}) {m^-1}\n",
    "        nu_tilde_min, nu_tilde_max = band_info(band=int(band))['min'], band_info(band=int(band))['max']\n",
    "        # Calculate fluxes within wavelength bands using simple integration\n",
    "        lambda_max = 1/nu_tilde_min if band != 0 else 1e-4\n",
    "        lambda_min = 1/nu_tilde_max\n",
    "        dlambda_ = abs(lambda_max - lambda_min)/points\n",
    "        F_ = [fd(T, lambda_, lambda_+dlambda_) for lambda_ in np.linspace(lambda_min, lambda_max+dlambda_, points)]\n",
    "        \n",
    "        # print('Band: {0}, {1:.2e} m, {2:.2e} m'.format(band+1, lambda_min, lambda_max))\n",
    "        \n",
    "        # Append band-specific flux to the sum\n",
    "        F += np.nansum(F_)\n",
    "        \n",
    "        ax.plot(np.linspace(lambda_min, lambda_max, points), F_, marker='o', label='Band {0}'.format(band+1))\n",
    "        \n",
    "    fig.legend(frameon=False, loc='upper left', bbox_to_anchor=(1, 1))\n",
    "    fig.tight_layout()\n",
    "    \n",
    "    return F"
   ]
  },
  {
   "cell_type": "markdown",
   "id": "d99d7899-f322-4bb9-bd51-71429ad95e31",
   "metadata": {},
   "source": [
    "### Perform calculations"
   ]
  },
  {
   "cell_type": "markdown",
   "id": "28f645b4-cc93-45f1-941a-8fa042b7e1fb",
   "metadata": {},
   "source": [
    "#### Pre-project, Problem 1, CIRC2"
   ]
  },
  {
   "cell_type": "code",
   "execution_count": 760,
   "id": "998d8957-ec14-4a13-a426-ca491f19422f",
   "metadata": {},
   "outputs": [
    {
     "name": "stderr",
     "output_type": "stream",
     "text": [
      "/var/folders/98/_d8bjg_j2p58806pn5mtq77r0000gn/T/ipykernel_25568/3579196336.py:33: RuntimeWarning: divide by zero encountered in double_scalars\n",
      "  lambda_max = 1/nu_tilde_min if band != 0 else 1e-4\n",
      "/opt/homebrew/Caskroom/miniforge/base/envs/dev/lib/python3.10/site-packages/numpy/core/function_base.py:151: RuntimeWarning: invalid value encountered in multiply\n",
      "  y *= step\n",
      "/var/folders/98/_d8bjg_j2p58806pn5mtq77r0000gn/T/ipykernel_25568/1980276590.py:16: RuntimeWarning: invalid value encountered in double_scalars\n",
      "  B = C1/(np.pi*lambda_**5*(np.exp(C2/(lambda_*T))-1))\n",
      "/var/folders/98/_d8bjg_j2p58806pn5mtq77r0000gn/T/ipykernel_25568/4129101144.py:4: RuntimeWarning: invalid value encountered in double_scalars\n",
      "  F = np.pi*abs((B_lambda(T, lambda_=lambda_max) - B_lambda(T, lambda_=lambda_min))*(lambda_max - lambda_min)/2)\n"
     ]
    },
    {
     "name": "stdout",
     "output_type": "stream",
     "text": [
      "CIRC2 flux emitted by surface: 73.17 W m^-2 | CIRC2 Stefan-Boltzmann: 508.53 W m^-2\n"
     ]
    },
    {
     "data": {
      "image/png": "[encoded data removed]",
      "text/plain": [
       "<Figure size 400x400 with 1 Axes>"
      ]
     },
     "metadata": {},
     "output_type": "display_data"
    }
   ],
   "source": [
    "# Load all data for a given gas and atmospheric profiles\n",
    "data_circ2 = load(gas_name='ALLGAS', atmosphere='CIRC2')\n",
    "# Surface temperature, CIRC2 {K}\n",
    "Ts_circ2 = 307.74\n",
    "# Calculate fluxes, base temperatures\n",
    "fluxes_circ2 = flux(Ts_circ2, bands='all')\n",
    "print('CIRC2 flux emitted by surface: {0:.2f} W m^-2 | CIRC2 Stefan-Boltzmann: {1:.2f} W m^-2'.format(fluxes_circ2, sb(Ts_circ2)))"
   ]
  },
  {
   "cell_type": "markdown",
   "id": "17c08d1c-e901-4e9f-8fc6-fd90e80584d7",
   "metadata": {},
   "source": [
    "#### Pre-project, Problem 1, CIRC4"
   ]
  },
  {
   "cell_type": "code",
   "execution_count": null,
   "id": "8349cc3d-5cff-4535-b43d-56afdbdb81eb",
   "metadata": {},
   "outputs": [],
   "source": [
    "# Load all data for a given gas and atmospheric profiles\n",
    "data_circ2 = load(gas_name='ALLGAS', atmosphere='CIRC4')\n",
    "# Surface temperature, CIRC2 {K}\n",
    "Ts_circ2 = 266.65\n",
    "# Calculate fluxes, base temperatures\n",
    "fluxes_circ2 = flux(Ts_circ2, bands='all')\n",
    "print('CIRC4 flux emitted by surface: {0:.2f} W m^-2 | CIRC4 Stefan-Boltzmann: {1:.2f} W m^-2'.format(fluxes_circ2, sb(Ts_circ2)))"
   ]
  }
 ],
 "metadata": {
  "kernelspec": {
   "display_name": "Python 3 (ipykernel)",
   "language": "python",
   "name": "python3"
  },
  "language_info": {
   "codemirror_mode": {
    "name": "ipython",
    "version": 3
   },
   "file_extension": ".py",
   "mimetype": "text/x-python",
   "name": "python",
   "nbconvert_exporter": "python",
   "pygments_lexer": "ipython3",
   "version": "3.10.5"
  }
 },
 "nbformat": 4,
 "nbformat_minor": 5
}
