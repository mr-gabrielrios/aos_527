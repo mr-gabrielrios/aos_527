{
 "cells": [
  {
   "cell_type": "code",
   "execution_count": 2,
   "id": "bf754f27-142b-4db7-9c69-104317070618",
   "metadata": {},
   "outputs": [],
   "source": [
    "import numpy as np\n",
    "import os\n",
    "import pandas as pd\n",
    "\n",
    "import warnings\n",
    "warnings.filterwarnings(\"ignore\")"
   ]
  },
  {
   "cell_type": "code",
   "execution_count": 3,
   "id": "3f9ef0ed-988a-45e6-94d3-39c88b822ed6",
   "metadata": {},
   "outputs": [],
   "source": [
    "diagnostics = False"
   ]
  },
  {
   "cell_type": "markdown",
   "id": "b62a3486-538c-4ea0-b38e-ab55c664cd9e",
   "metadata": {},
   "source": [
    "### General information and assumptions"
   ]
  },
  {
   "cell_type": "code",
   "execution_count": 62,
   "id": "05daeb6b-d897-44b5-8cdd-6c8c2cf845a0",
   "metadata": {},
   "outputs": [
    {
     "name": "stdout",
     "output_type": "stream",
     "text": [
      "Wavenumber spectrum: 0 to 3000 cm^-1\n",
      "Wavelength spectrum: 3.3e-06 to 1.0e-02 m\n"
     ]
    }
   ],
   "source": [
    "print('Wavenumber spectrum: 0 to 3000 cm^-1')\n",
    "print('Wavelength spectrum: {0:.1e} to {1:.1e} m'.format(converter(3000, 'wavenumber', 'wavelength'), converter(1, 'wavenumber', 'wavelength')))"
   ]
  },
  {
   "cell_type": "markdown",
   "id": "c69b4fd2-bfa9-482d-bfe9-20899257418e",
   "metadata": {},
   "source": [
    "### Assignment responses"
   ]
  },
  {
   "cell_type": "markdown",
   "id": "dbd65e6a-4a17-41be-8cda-936275e6408b",
   "metadata": {
    "tags": []
   },
   "source": [
    "#### Pre-project, Problem 1"
   ]
  },
  {
   "cell_type": "markdown",
   "id": "8255a04a-0f83-4acd-b9ca-7a28e036a17f",
   "metadata": {},
   "source": [
    "##### Pre-project, Problem 1a, CIRC2"
   ]
  },
  {
   "cell_type": "code",
   "execution_count": 169,
   "id": "d05fe0af-40fd-4c2d-8504-8b0d19612ad0",
   "metadata": {
    "tags": []
   },
   "outputs": [
    {
     "name": "stdout",
     "output_type": "stream",
     "text": [
      "CIRC2 flux: 508.36 W m^-2 | Stefan-Boltzmann flux: 508.53 W m^-2 | Error: -0.03 %\n"
     ]
    }
   ],
   "source": [
    "flux_circ2_all = main(atmosphere='CIRC2', gas=None, bands='all')\n",
    "print('CIRC2 flux: {0:.2f} W m^-2 | Stefan-Boltzmann flux: {1:.2f} W m^-2 | Error: {2:.2f} %'.format(flux_circ2_all, sb(307.74), 100*(flux_circ2_all-sb(307.74))/sb(307.74)))\n",
    "del flux_circ2_all"
   ]
  },
  {
   "cell_type": "markdown",
   "id": "317aa43e-c488-4d0e-aeae-5440b73e1986",
   "metadata": {},
   "source": [
    "##### Pre-project, Problem 1b, CIRC4"
   ]
  },
  {
   "cell_type": "code",
   "execution_count": 170,
   "id": "6a3144c4-bd73-4e0e-a0b3-4fafba759f7a",
   "metadata": {},
   "outputs": [
    {
     "name": "stdout",
     "output_type": "stream",
     "text": [
      "CIRC4 flux: 286.26 W m^-2 | Stefan-Boltzmann flux: 286.22 W m^-2 | Error: -0.14 %\n"
     ]
    }
   ],
   "source": [
    "flux_circ4_all = main(atmosphere='CIRC4', gas=None, bands='all')\n",
    "print('CIRC4 flux: {0:.2f} W m^-2 | Stefan-Boltzmann flux: {1:.2f} W m^-2 | Error: {2:.2f} %'.format(flux_circ4_all, sb(266.55), 100*(flux_circ4_all-sb(266.65))/sb(266.65)))\n",
    "del flux_circ4_all"
   ]
  },
  {
   "cell_type": "markdown",
   "id": "dfd55ef7-5f64-4161-8c2d-8e0b922cafb6",
   "metadata": {},
   "source": [
    "#### Pre-project, Problem 2"
   ]
  },
  {
   "cell_type": "markdown",
   "id": "aa8ef53e-eb5a-4188-8d62-ba2b8a438499",
   "metadata": {},
   "source": [
    "##### Pre-project, Problem 2a, CIRC2"
   ]
  },
  {
   "cell_type": "code",
   "execution_count": 171,
   "id": "ac31c963-e95c-43b4-8e7d-67dfde1050b1",
   "metadata": {},
   "outputs": [
    {
     "name": "stdout",
     "output_type": "stream",
     "text": [
      "Band  1 | Baseline flux:   8.32 W m^-2 | dT+1 flux:   8.35 W m^-2 | Abs. diff.:   0.04 W m^-2 | % diff.:   0.42 %\n",
      "Band  2 | Baseline flux: 149.38 W m^-2 | dT+1 flux: 150.46 W m^-2 | Abs. diff.:   1.07 W m^-2 | % diff.:   0.72 %\n",
      "Band  3 | Baseline flux:  36.37 W m^-2 | dT+1 flux:  36.73 W m^-2 | Abs. diff.:   0.35 W m^-2 | % diff.:   0.97 %\n",
      "Band  4 | Baseline flux:  35.95 W m^-2 | dT+1 flux:  36.33 W m^-2 | Abs. diff.:   0.38 W m^-2 | % diff.:   1.06 %\n",
      "Band  5 | Baseline flux:  48.74 W m^-2 | dT+1 flux:  49.31 W m^-2 | Abs. diff.:   0.57 W m^-2 | % diff.:   1.18 %\n",
      "Band  6 | Baseline flux:  43.97 W m^-2 | dT+1 flux:  44.55 W m^-2 | Abs. diff.:   0.58 W m^-2 | % diff.:   1.32 %\n",
      "Band  7 | Baseline flux:  34.66 W m^-2 | dT+1 flux:  35.16 W m^-2 | Abs. diff.:   0.51 W m^-2 | % diff.:   1.46 %\n",
      "Band  8 | Baseline flux:  26.71 W m^-2 | dT+1 flux:  27.13 W m^-2 | Abs. diff.:   0.42 W m^-2 | % diff.:   1.58 %\n",
      "Band  9 | Baseline flux:  35.47 W m^-2 | dT+1 flux:  36.08 W m^-2 | Abs. diff.:   0.62 W m^-2 | % diff.:   1.74 %\n",
      "Band 10 | Baseline flux:  37.99 W m^-2 | dT+1 flux:  38.74 W m^-2 | Abs. diff.:   0.75 W m^-2 | % diff.:   1.98 %\n",
      "Band 11 | Baseline flux:  47.11 W m^-2 | dT+1 flux:  48.30 W m^-2 | Abs. diff.:   1.20 W m^-2 | % diff.:   2.54 %\n",
      "Band 12 | Baseline flux:   0.62 W m^-2 | dT+1 flux:   0.65 W m^-2 | Abs. diff.:   0.02 W m^-2 | % diff.:   3.43 %\n",
      "Band 13 | Baseline flux:   1.35 W m^-2 | dT+1 flux:   1.40 W m^-2 | Abs. diff.:   0.05 W m^-2 | % diff.:   3.58 %\n",
      "Band 14 | Baseline flux:   1.73 W m^-2 | dT+1 flux:   1.80 W m^-2 | Abs. diff.:   0.07 W m^-2 | % diff.:   4.02 %\n"
     ]
    }
   ],
   "source": [
    "for band in range(1, 15):\n",
    "    flux_circ2_all_baseline = main(atmosphere='CIRC2', gas=None, bands=band)\n",
    "    flux_circ2_all_dT = main(atmosphere='CIRC2', gas=None, bands=band, dT=1)\n",
    "    flux_circ2_abs_diff = flux_circ2_all_dT - flux_circ2_all_baseline\n",
    "    flux_circ2_pct_diff = 100*(flux_circ2_all_dT - flux_circ2_all_baseline)/flux_circ2_all_baseline\n",
    "    print('Band {0:2d} | Baseline flux: {1:6.2f} W m^-2 | dT+1 flux: {2:6.2f} W m^-2 | Abs. diff.: {3:6.2f} W m^-2 | % diff.: {4:6.2f} %'.format(band, flux_circ2_all_baseline, flux_circ2_all_dT, flux_circ2_abs_diff, flux_circ2_pct_diff))\n",
    "    \n",
    "del flux_circ2_all_baseline, flux_circ2_all_dT, flux_circ2_abs_diff, flux_circ2_pct_diff"
   ]
  },
  {
   "cell_type": "markdown",
   "id": "4b7b7139-f822-4b30-8da7-ae63d0b311a0",
   "metadata": {},
   "source": [
    "##### Pre-project, Problem 2b, CIRC4"
   ]
  },
  {
   "cell_type": "code",
   "execution_count": 174,
   "id": "c06e968a-eb04-4435-aaf3-0d37c28b6b05",
   "metadata": {},
   "outputs": [
    {
     "name": "stdout",
     "output_type": "stream",
     "text": [
      "Band  1 | Baseline flux:   6.87 W m^-2 | dT+1 flux:   6.91 W m^-2 | Abs. diff.:   0.03 W m^-2 | % diff.:   0.51 %\n",
      "Band  2 | Baseline flux: 107.22 W m^-2 | dT+1 flux: 108.19 W m^-2 | Abs. diff.:   0.97 W m^-2 | % diff.:   0.91 %\n",
      "Band  3 | Baseline flux:  23.13 W m^-2 | dT+1 flux:  23.42 W m^-2 | Abs. diff.:   0.29 W m^-2 | % diff.:   1.26 %\n",
      "Band  4 | Baseline flux:  21.85 W m^-2 | dT+1 flux:  22.15 W m^-2 | Abs. diff.:   0.30 W m^-2 | % diff.:   1.39 %\n",
      "Band  5 | Baseline flux:  28.00 W m^-2 | dT+1 flux:  28.43 W m^-2 | Abs. diff.:   0.43 W m^-2 | % diff.:   1.55 %\n",
      "Band  6 | Baseline flux:  23.60 W m^-2 | dT+1 flux:  24.01 W m^-2 | Abs. diff.:   0.41 W m^-2 | % diff.:   1.75 %\n",
      "Band  7 | Baseline flux:  17.41 W m^-2 | dT+1 flux:  17.75 W m^-2 | Abs. diff.:   0.34 W m^-2 | % diff.:   1.93 %\n",
      "Band  8 | Baseline flux:  12.64 W m^-2 | dT+1 flux:  12.91 W m^-2 | Abs. diff.:   0.27 W m^-2 | % diff.:   2.11 %\n",
      "Band  9 | Baseline flux:  15.61 W m^-2 | dT+1 flux:  15.97 W m^-2 | Abs. diff.:   0.36 W m^-2 | % diff.:   2.31 %\n",
      "Band 10 | Baseline flux:  14.92 W m^-2 | dT+1 flux:  15.31 W m^-2 | Abs. diff.:   0.39 W m^-2 | % diff.:   2.64 %\n",
      "Band 11 | Baseline flux:  14.37 W m^-2 | dT+1 flux:  14.85 W m^-2 | Abs. diff.:   0.48 W m^-2 | % diff.:   3.34 %\n",
      "Band 12 | Baseline flux:   0.13 W m^-2 | dT+1 flux:   0.13 W m^-2 | Abs. diff.:   0.01 W m^-2 | % diff.:   4.59 %\n",
      "Band 13 | Baseline flux:   0.25 W m^-2 | dT+1 flux:   0.27 W m^-2 | Abs. diff.:   0.01 W m^-2 | % diff.:   4.79 %\n",
      "Band 14 | Baseline flux:   0.27 W m^-2 | dT+1 flux:   0.28 W m^-2 | Abs. diff.:   0.01 W m^-2 | % diff.:   5.35 %\n"
     ]
    }
   ],
   "source": [
    "for band in range(1, 15):\n",
    "    flux_circ4_all_baseline = main(atmosphere='CIRC4', gas=None, bands=band)\n",
    "    flux_circ4_all_dT = main(atmosphere='CIRC4', gas=None, bands=band, dT=1)\n",
    "    flux_circ4_abs_diff = flux_circ4_all_dT - flux_circ4_all_baseline\n",
    "    flux_circ4_pct_diff = 100*(flux_circ4_all_dT - flux_circ4_all_baseline)/flux_circ4_all_baseline\n",
    "    print('Band {0:2d} | Baseline flux: {1:6.2f} W m^-2 | dT+1 flux: {2:6.2f} W m^-2 | Abs. diff.: {3:6.2f} W m^-2 | % diff.: {4:6.2f} %'.format(band, flux_circ4_all_baseline, flux_circ4_all_dT, flux_circ4_abs_diff, flux_circ4_pct_diff))\n",
    "    \n",
    "del flux_circ4_all_baseline, flux_circ4_all_dT, flux_circ4_abs_diff, flux_circ4_pct_diff"
   ]
  },
  {
   "cell_type": "markdown",
   "id": "b2da29ae-e398-4de4-a566-bd9eb25025dd",
   "metadata": {},
   "source": [
    "### Project"
   ]
  },
  {
   "cell_type": "markdown",
   "id": "21e75b8b-cd8c-44f8-bd37-07d3d4da5c19",
   "metadata": {},
   "source": [
    "#### Problem 1"
   ]
  },
  {
   "cell_type": "markdown",
   "id": "ceeb8d24-a445-4616-9569-b114045becfe",
   "metadata": {},
   "source": [
    "Magnitudes may be accurate (see Pavlakis et al., 2004; Lecture 6/7, Slide 28 from David Paynter)"
   ]
  },
  {
   "cell_type": "code",
   "execution_count": 81,
   "id": "34d21dd6-48d3-4c86-ad8d-24a72871f39d",
   "metadata": {},
   "outputs": [
    {
     "name": "stdout",
     "output_type": "stream",
     "text": [
      "Atmospheric profile: CIRC2 | Gas: CO2    | Flux at TOA: 138.53 W m^-2 | Flux at surface:  74.63 W m^-2\n",
      "Atmospheric profile: CIRC2 | Gas: H2OCTM | Flux at TOA: 742.62 W m^-2 | Flux at surface: 380.78 W m^-2\n",
      "Atmospheric profile: CIRC2 | Gas: CH4    | Flux at TOA:  14.64 W m^-2 | Flux at surface:   6.64 W m^-2\n",
      "Atmospheric profile: CIRC2 | Gas: N2O    | Flux at TOA:  18.76 W m^-2 | Flux at surface:   7.90 W m^-2\n",
      "Atmospheric profile: CIRC2 | Gas: O3     | Flux at TOA:  25.59 W m^-2 | Flux at surface:   7.15 W m^-2\n",
      "Atmospheric profile: CIRC2 | Gas: ALLGAS | Flux at TOA: 722.12 W m^-2 | Flux at surface: 391.38 W m^-2\n",
      "Atmospheric profile: CIRC4 | Gas: CO2    | Flux at TOA:  89.66 W m^-2 | Flux at surface:  48.65 W m^-2\n",
      "Atmospheric profile: CIRC4 | Gas: H2OCTM | Flux at TOA: 280.69 W m^-2 | Flux at surface: 143.93 W m^-2\n",
      "Atmospheric profile: CIRC4 | Gas: CH4    | Flux at TOA:   6.66 W m^-2 | Flux at surface:   3.53 W m^-2\n",
      "Atmospheric profile: CIRC4 | Gas: N2O    | Flux at TOA:   9.57 W m^-2 | Flux at surface:   4.71 W m^-2\n",
      "Atmospheric profile: CIRC4 | Gas: O3     | Flux at TOA:  16.76 W m^-2 | Flux at surface:   5.47 W m^-2\n",
      "Atmospheric profile: CIRC4 | Gas: ALLGAS | Flux at TOA: 355.00 W m^-2 | Flux at surface: 184.35 W m^-2\n"
     ]
    }
   ],
   "source": [
    "# List gases of interest\n",
    "gases = ['CO2', 'H2OCTM', 'CH4', 'N2O', 'O3', 'ALLGAS']\n",
    "# List atmospheres of interest\n",
    "atms = ['CIRC2', 'CIRC4']\n",
    "\n",
    "for atm in atms:\n",
    "    for gas in gases:\n",
    "        f_toa, f_sfc = flux_layered(atmosphere=atm, gas_name=gas, bands='all', z='toa'), flux_layered(atmosphere=atm, gas_name=gas, bands='all', z='sfc')\n",
    "        print('Atmospheric profile: {0} | Gas: {1:6} | Flux at TOA: {2:6.2f} W m^-2 | Flux at surface: {3:6.2f} W m^-2'.format(atm, gas, f_toa, f_sfc))\n",
    "        \n",
    "del gases, gas, atms, atm, f_toa, f_sfc"
   ]
  },
  {
   "cell_type": "markdown",
   "id": "bc37de08-b38c-487c-93a2-040eb466c80a",
   "metadata": {},
   "source": [
    "#### Problem 2\n",
    "\n",
    "H2O continuum alone"
   ]
  },
  {
   "cell_type": "code",
   "execution_count": 82,
   "id": "37b4fe48-702f-4ca3-9871-a5e6184ec481",
   "metadata": {},
   "outputs": [
    {
     "name": "stdout",
     "output_type": "stream",
     "text": [
      "Atmospheric profile: CIRC2 | Gas: H2OCTM | Band:   1 | Flux at TOA:  30.99 W m^-2 | Flux at surface:  18.38 W m^-2\n",
      "Atmospheric profile: CIRC2 | Gas: H2OCTM | Band:   2 | Flux at TOA: 237.02 W m^-2 | Flux at surface: 138.08 W m^-2\n",
      "Atmospheric profile: CIRC2 | Gas: H2OCTM | Band:   3 | Flux at TOA:  60.89 W m^-2 | Flux at surface:  25.16 W m^-2\n",
      "Atmospheric profile: CIRC2 | Gas: H2OCTM | Band:   4 | Flux at TOA:  61.14 W m^-2 | Flux at surface:  25.85 W m^-2\n",
      "Atmospheric profile: CIRC2 | Gas: H2OCTM | Band:   5 | Flux at TOA:  80.59 W m^-2 | Flux at surface:  35.21 W m^-2\n",
      "Atmospheric profile: CIRC2 | Gas: H2OCTM | Band:   6 | Flux at TOA:  62.10 W m^-2 | Flux at surface:  27.32 W m^-2\n",
      "Atmospheric profile: CIRC2 | Gas: H2OCTM | Band:   7 | Flux at TOA:  39.54 W m^-2 | Flux at surface:  17.36 W m^-2\n",
      "Atmospheric profile: CIRC2 | Gas: H2OCTM | Band:   8 | Flux at TOA:  25.72 W m^-2 | Flux at surface:  11.20 W m^-2\n",
      "Atmospheric profile: CIRC2 | Gas: H2OCTM | Band:   9 | Flux at TOA:  36.21 W m^-2 | Flux at surface:  15.73 W m^-2\n",
      "Atmospheric profile: CIRC2 | Gas: H2OCTM | Band:  10 | Flux at TOA:  52.34 W m^-2 | Flux at surface:  27.62 W m^-2\n",
      "Atmospheric profile: CIRC2 | Gas: H2OCTM | Band:  11 | Flux at TOA:  54.55 W m^-2 | Flux at surface:  38.26 W m^-2\n",
      "Atmospheric profile: CIRC2 | Gas: H2OCTM | Band:  12 | Flux at TOA:   0.36 W m^-2 | Flux at surface:   0.14 W m^-2\n",
      "Atmospheric profile: CIRC2 | Gas: H2OCTM | Band:  13 | Flux at TOA:   0.38 W m^-2 | Flux at surface:   0.15 W m^-2\n",
      "Atmospheric profile: CIRC2 | Gas: H2OCTM | Band:  14 | Flux at TOA:   0.78 W m^-2 | Flux at surface:   0.32 W m^-2\n",
      "Atmospheric profile: CIRC4 | Gas: H2OCTM | Band:   1 | Flux at TOA:  26.39 W m^-2 | Flux at surface:  14.32 W m^-2\n",
      "Atmospheric profile: CIRC4 | Gas: H2OCTM | Band:   2 | Flux at TOA: 177.29 W m^-2 | Flux at surface:  90.85 W m^-2\n",
      "Atmospheric profile: CIRC4 | Gas: H2OCTM | Band:   3 | Flux at TOA:  22.32 W m^-2 | Flux at surface:  10.54 W m^-2\n",
      "Atmospheric profile: CIRC4 | Gas: H2OCTM | Band:   4 | Flux at TOA:  13.17 W m^-2 | Flux at surface:   6.21 W m^-2\n",
      "Atmospheric profile: CIRC4 | Gas: H2OCTM | Band:   5 | Flux at TOA:   7.54 W m^-2 | Flux at surface:   3.59 W m^-2\n",
      "Atmospheric profile: CIRC4 | Gas: H2OCTM | Band:   6 | Flux at TOA:   1.99 W m^-2 | Flux at surface:   0.95 W m^-2\n",
      "Atmospheric profile: CIRC4 | Gas: H2OCTM | Band:   7 | Flux at TOA:   0.64 W m^-2 | Flux at surface:   0.31 W m^-2\n",
      "Atmospheric profile: CIRC4 | Gas: H2OCTM | Band:   8 | Flux at TOA:   0.44 W m^-2 | Flux at surface:   0.21 W m^-2\n",
      "Atmospheric profile: CIRC4 | Gas: H2OCTM | Band:   9 | Flux at TOA:   1.81 W m^-2 | Flux at surface:   0.87 W m^-2\n",
      "Atmospheric profile: CIRC4 | Gas: H2OCTM | Band:  10 | Flux at TOA:  13.80 W m^-2 | Flux at surface:   6.90 W m^-2\n",
      "Atmospheric profile: CIRC4 | Gas: H2OCTM | Band:  11 | Flux at TOA:  15.27 W m^-2 | Flux at surface:   9.15 W m^-2\n",
      "Atmospheric profile: CIRC4 | Gas: H2OCTM | Band:  12 | Flux at TOA:   0.00 W m^-2 | Flux at surface:   0.00 W m^-2\n",
      "Atmospheric profile: CIRC4 | Gas: H2OCTM | Band:  13 | Flux at TOA:   0.00 W m^-2 | Flux at surface:   0.00 W m^-2\n",
      "Atmospheric profile: CIRC4 | Gas: H2OCTM | Band:  14 | Flux at TOA:   0.02 W m^-2 | Flux at surface:   0.01 W m^-2\n"
     ]
    }
   ],
   "source": [
    "# List gases of interest\n",
    "gases = ['H2OCTM']\n",
    "# List atmospheres of interest\n",
    "atms = ['CIRC2', 'CIRC4']\n",
    "# List of bands of interest\n",
    "bands = range(1, 15)\n",
    "\n",
    "for atm in atms:\n",
    "    for gas in gases:\n",
    "        for band in bands:\n",
    "            f_toa, f_sfc = flux_layered(atmosphere=atm, gas_name=gas, bands=band, z='toa'), flux_layered(atmosphere=atm, gas_name=gas, bands=band, z='sfc')\n",
    "            print('Atmospheric profile: {0} | Gas: {1:6} | Band: {2:3} | Flux at TOA: {3:6.2f} W m^-2 | Flux at surface: {4:6.2f} W m^-2'.format(atm, gas, band, f_toa, f_sfc))\n",
    "        \n",
    "del bands, gases, gas, atms, atm, f_toa, f_sfc"
   ]
  },
  {
   "cell_type": "markdown",
   "id": "01a58247-85af-4ac1-9f1f-545efaa76cb7",
   "metadata": {},
   "source": [
    "#### Problem 3"
   ]
  },
  {
   "cell_type": "markdown",
   "id": "ae25aadc-1ad7-45a1-bdd3-77b19ddc1491",
   "metadata": {},
   "source": [
    "##### Problem 3a\n",
    "\n",
    "2xCO2 alone"
   ]
  },
  {
   "cell_type": "code",
   "execution_count": 83,
   "id": "3c0b8017-12a2-4196-9c15-4f80093cc627",
   "metadata": {},
   "outputs": [
    {
     "name": "stdout",
     "output_type": "stream",
     "text": [
      "Atmospheric profile: CIRC2 | Gas: 2xCO2  | Band:   1 | Flux at TOA:   0.00 W m^-2 | Flux at surface:   0.00 W m^-2\n",
      "Atmospheric profile: CIRC2 | Gas: 2xCO2  | Band:   2 | Flux at TOA:   2.12 W m^-2 | Flux at surface:   0.95 W m^-2\n",
      "Atmospheric profile: CIRC2 | Gas: 2xCO2  | Band:   3 | Flux at TOA:  42.28 W m^-2 | Flux at surface:  20.61 W m^-2\n",
      "Atmospheric profile: CIRC2 | Gas: 2xCO2  | Band:   4 | Flux at TOA:  46.90 W m^-2 | Flux at surface:  33.20 W m^-2\n",
      "Atmospheric profile: CIRC2 | Gas: 2xCO2  | Band:   5 | Flux at TOA:  45.76 W m^-2 | Flux at surface:  23.11 W m^-2\n",
      "Atmospheric profile: CIRC2 | Gas: 2xCO2  | Band:   6 | Flux at TOA:   1.51 W m^-2 | Flux at surface:   0.63 W m^-2\n",
      "Atmospheric profile: CIRC2 | Gas: 2xCO2  | Band:   7 | Flux at TOA:   3.89 W m^-2 | Flux at surface:   1.63 W m^-2\n",
      "Atmospheric profile: CIRC2 | Gas: 2xCO2  | Band:   8 | Flux at TOA:   2.79 W m^-2 | Flux at surface:   1.17 W m^-2\n",
      "Atmospheric profile: CIRC2 | Gas: 2xCO2  | Band:   9 | Flux at TOA:   1.65 W m^-2 | Flux at surface:   0.69 W m^-2\n",
      "Atmospheric profile: CIRC2 | Gas: 2xCO2  | Band:  10 | Flux at TOA:   0.49 W m^-2 | Flux at surface:   0.14 W m^-2\n",
      "Atmospheric profile: CIRC2 | Gas: 2xCO2  | Band:  11 | Flux at TOA:   3.20 W m^-2 | Flux at surface:   1.27 W m^-2\n",
      "Atmospheric profile: CIRC2 | Gas: 2xCO2  | Band:  12 | Flux at TOA:   0.47 W m^-2 | Flux at surface:   0.23 W m^-2\n",
      "Atmospheric profile: CIRC2 | Gas: 2xCO2  | Band:  13 | Flux at TOA:   1.40 W m^-2 | Flux at surface:   1.21 W m^-2\n",
      "Atmospheric profile: CIRC2 | Gas: 2xCO2  | Band:  14 | Flux at TOA:   0.01 W m^-2 | Flux at surface:   0.00 W m^-2\n",
      "Atmospheric profile: CIRC4 | Gas: 2xCO2  | Band:   1 | Flux at TOA:   0.00 W m^-2 | Flux at surface:   0.00 W m^-2\n",
      "Atmospheric profile: CIRC4 | Gas: 2xCO2  | Band:   2 | Flux at TOA:   1.14 W m^-2 | Flux at surface:   0.55 W m^-2\n",
      "Atmospheric profile: CIRC4 | Gas: 2xCO2  | Band:   3 | Flux at TOA:  28.59 W m^-2 | Flux at surface:  14.82 W m^-2\n",
      "Atmospheric profile: CIRC4 | Gas: 2xCO2  | Band:   4 | Flux at TOA:  34.83 W m^-2 | Flux at surface:  20.69 W m^-2\n",
      "Atmospheric profile: CIRC4 | Gas: 2xCO2  | Band:   5 | Flux at TOA:  27.98 W m^-2 | Flux at surface:  14.87 W m^-2\n",
      "Atmospheric profile: CIRC4 | Gas: 2xCO2  | Band:   6 | Flux at TOA:   0.60 W m^-2 | Flux at surface:   0.28 W m^-2\n",
      "Atmospheric profile: CIRC4 | Gas: 2xCO2  | Band:   7 | Flux at TOA:   1.45 W m^-2 | Flux at surface:   0.68 W m^-2\n",
      "Atmospheric profile: CIRC4 | Gas: 2xCO2  | Band:   8 | Flux at TOA:   1.04 W m^-2 | Flux at surface:   0.49 W m^-2\n",
      "Atmospheric profile: CIRC4 | Gas: 2xCO2  | Band:   9 | Flux at TOA:   0.56 W m^-2 | Flux at surface:   0.27 W m^-2\n",
      "Atmospheric profile: CIRC4 | Gas: 2xCO2  | Band:  10 | Flux at TOA:   0.25 W m^-2 | Flux at surface:   0.10 W m^-2\n",
      "Atmospheric profile: CIRC4 | Gas: 2xCO2  | Band:  11 | Flux at TOA:   1.15 W m^-2 | Flux at surface:   0.57 W m^-2\n",
      "Atmospheric profile: CIRC4 | Gas: 2xCO2  | Band:  12 | Flux at TOA:   0.10 W m^-2 | Flux at surface:   0.06 W m^-2\n",
      "Atmospheric profile: CIRC4 | Gas: 2xCO2  | Band:  13 | Flux at TOA:   0.34 W m^-2 | Flux at surface:   0.23 W m^-2\n",
      "Atmospheric profile: CIRC4 | Gas: 2xCO2  | Band:  14 | Flux at TOA:   0.01 W m^-2 | Flux at surface:   0.01 W m^-2\n"
     ]
    }
   ],
   "source": [
    "# List gases of interest\n",
    "gases = ['2xCO2']\n",
    "# List atmospheres of interest\n",
    "atms = ['CIRC2', 'CIRC4']\n",
    "# List of bands of interest\n",
    "bands = range(1, 15)\n",
    "\n",
    "for atm in atms:\n",
    "    for gas in gases:\n",
    "        for band in bands:\n",
    "            f_toa, f_sfc = flux_layered(atmosphere=atm, gas_name=gas, bands=band, z='toa'), flux_layered(atmosphere=atm, gas_name=gas, bands=band, z='sfc')\n",
    "            print('Atmospheric profile: {0} | Gas: {1:6} | Band: {2:3} | Flux at TOA: {3:6.2f} W m^-2 | Flux at surface: {4:6.2f} W m^-2'.format(atm, gas, band, f_toa, f_sfc))\n",
    "        \n",
    "del bands, gases, gas, atms, atm, f_toa, f_sfc"
   ]
  },
  {
   "cell_type": "markdown",
   "id": "baa61079-612b-423e-8537-3b6e6972732d",
   "metadata": {},
   "source": [
    "##### Problem 3b\n",
    "\n",
    "All gases, except CO2 is now 2xCO2"
   ]
  },
  {
   "cell_type": "code",
   "execution_count": 84,
   "id": "2a77cf24-8c43-45f2-ba47-ce1199102fc2",
   "metadata": {},
   "outputs": [
    {
     "name": "stdout",
     "output_type": "stream",
     "text": [
      "Atmospheric profile: CIRC2 | Gas: 2xCO2  | Flux at TOA: 152.47 W m^-2 | Flux at surface:  84.84 W m^-2\n",
      "Atmospheric profile: CIRC2 | Gas: H2OCTM | Flux at TOA: 742.62 W m^-2 | Flux at surface: 380.78 W m^-2\n",
      "Atmospheric profile: CIRC2 | Gas: CH4    | Flux at TOA:  14.64 W m^-2 | Flux at surface:   6.64 W m^-2\n",
      "Atmospheric profile: CIRC2 | Gas: N2O    | Flux at TOA:  18.76 W m^-2 | Flux at surface:   7.90 W m^-2\n",
      "Atmospheric profile: CIRC2 | Gas: O3     | Flux at TOA:  25.59 W m^-2 | Flux at surface:   7.15 W m^-2\n",
      "Atmospheric profile: CIRC2 | Gas: ALLGAS | Flux at TOA: 722.12 W m^-2 | Flux at surface: 391.38 W m^-2\n",
      "Atmospheric profile: CIRC4 | Gas: 2xCO2  | Flux at TOA:  98.04 W m^-2 | Flux at surface:  53.62 W m^-2\n",
      "Atmospheric profile: CIRC4 | Gas: H2OCTM | Flux at TOA: 280.69 W m^-2 | Flux at surface: 143.93 W m^-2\n",
      "Atmospheric profile: CIRC4 | Gas: CH4    | Flux at TOA:   6.66 W m^-2 | Flux at surface:   3.53 W m^-2\n",
      "Atmospheric profile: CIRC4 | Gas: N2O    | Flux at TOA:   9.57 W m^-2 | Flux at surface:   4.71 W m^-2\n",
      "Atmospheric profile: CIRC4 | Gas: O3     | Flux at TOA:  16.76 W m^-2 | Flux at surface:   5.47 W m^-2\n",
      "Atmospheric profile: CIRC4 | Gas: ALLGAS | Flux at TOA: 355.00 W m^-2 | Flux at surface: 184.35 W m^-2\n"
     ]
    }
   ],
   "source": [
    "# List gases of interest\n",
    "gases = ['2xCO2', 'H2OCTM', 'CH4', 'N2O', 'O3', 'ALLGAS']\n",
    "# List atmospheres of interest\n",
    "atms = ['CIRC2', 'CIRC4']\n",
    "# List of bands of interest\n",
    "bands = range(1, 15)\n",
    "\n",
    "for atm in atms:\n",
    "    for gas in gases:\n",
    "        f_toa, f_sfc = flux_layered(atmosphere=atm, gas_name=gas, bands='all', z='toa'), flux_layered(atmosphere=atm, gas_name=gas, bands='all', z='sfc')\n",
    "        print('Atmospheric profile: {0} | Gas: {1:6} | Flux at TOA: {2:6.2f} W m^-2 | Flux at surface: {3:6.2f} W m^-2'.format(atm, gas, f_toa, f_sfc))\n",
    "             \n",
    "del gases, gas, atms, atm, f_toa, f_sfc"
   ]
  },
  {
   "cell_type": "markdown",
   "id": "be62c94f-f225-41e2-b94c-ce1d882567a0",
   "metadata": {},
   "source": [
    "##### Problem 3c\n",
    "\n",
    "All gases, except CO2 is now 2xCO2, and H2OCTM is now H2O"
   ]
  },
  {
   "cell_type": "code",
   "execution_count": 85,
   "id": "379201f8-f188-4e94-a58f-94c63d141039",
   "metadata": {},
   "outputs": [
    {
     "name": "stdout",
     "output_type": "stream",
     "text": [
      "Atmospheric profile: CIRC2 | Gas: 2xCO2  | Flux at TOA: 152.47 W m^-2 | Flux at surface:  84.84 W m^-2\n",
      "Atmospheric profile: CIRC2 | Gas: H2O    | Flux at TOA: 576.00 W m^-2 | Flux at surface: 305.36 W m^-2\n",
      "Atmospheric profile: CIRC2 | Gas: CH4    | Flux at TOA:  14.64 W m^-2 | Flux at surface:   6.64 W m^-2\n",
      "Atmospheric profile: CIRC2 | Gas: N2O    | Flux at TOA:  18.76 W m^-2 | Flux at surface:   7.90 W m^-2\n",
      "Atmospheric profile: CIRC2 | Gas: O3     | Flux at TOA:  25.59 W m^-2 | Flux at surface:   7.15 W m^-2\n",
      "Atmospheric profile: CIRC2 | Gas: ALLGAS | Flux at TOA: 722.12 W m^-2 | Flux at surface: 391.38 W m^-2\n",
      "Atmospheric profile: CIRC4 | Gas: 2xCO2  | Flux at TOA:  98.04 W m^-2 | Flux at surface:  53.62 W m^-2\n",
      "Atmospheric profile: CIRC4 | Gas: H2O    | Flux at TOA: 263.16 W m^-2 | Flux at surface: 135.23 W m^-2\n",
      "Atmospheric profile: CIRC4 | Gas: CH4    | Flux at TOA:   6.66 W m^-2 | Flux at surface:   3.53 W m^-2\n",
      "Atmospheric profile: CIRC4 | Gas: N2O    | Flux at TOA:   9.57 W m^-2 | Flux at surface:   4.71 W m^-2\n",
      "Atmospheric profile: CIRC4 | Gas: O3     | Flux at TOA:  16.76 W m^-2 | Flux at surface:   5.47 W m^-2\n",
      "Atmospheric profile: CIRC4 | Gas: ALLGAS | Flux at TOA: 355.00 W m^-2 | Flux at surface: 184.35 W m^-2\n"
     ]
    }
   ],
   "source": [
    "# List gases of interest\n",
    "gases = ['2xCO2', 'H2O', 'CH4', 'N2O', 'O3', 'ALLGAS']\n",
    "# List atmospheres of interest\n",
    "atms = ['CIRC2', 'CIRC4']\n",
    "# List of bands of interest\n",
    "bands = range(1, 15)\n",
    "\n",
    "for atm in atms:\n",
    "    for gas in gases:\n",
    "        f_toa, f_sfc = flux_layered(atmosphere=atm, gas_name=gas, bands='all', z='toa'), flux_layered(atmosphere=atm, gas_name=gas, bands='all', z='sfc')\n",
    "        print('Atmospheric profile: {0} | Gas: {1:6} | Flux at TOA: {2:6.2f} W m^-2 | Flux at surface: {3:6.2f} W m^-2'.format(atm, gas, f_toa, f_sfc))\n",
    "             \n",
    "del gases, gas, atms, atm, f_toa, f_sfc"
   ]
  },
  {
   "cell_type": "markdown",
   "id": "4bb938e4-63ee-464e-886b-4029ac8bc2ae",
   "metadata": {},
   "source": [
    "### Main function"
   ]
  },
  {
   "cell_type": "code",
   "execution_count": null,
   "id": "b8a589d7-d4f9-427e-8652-95edad934a43",
   "metadata": {},
   "outputs": [],
   "source": [
    "def main(atmosphere='CIRC2', gas=None, bands='all', dT=0):\n",
    "    \n",
    "    if atmosphere.lower() == 'circ2':\n",
    "        T_s = 307.74 + dT\n",
    "    elif atmosphere.lower() == 'circ4':\n",
    "        T_s = 266.55 + dT\n",
    "    \n",
    "    if bands == 'all':\n",
    "        bands = range(1, 15)\n",
    "    elif type(bands) is not list:\n",
    "        bands = [bands]\n",
    "    \n",
    "    F_total = 0\n",
    "    \n",
    "    for band in bands[::-1]:\n",
    "        if diagnostics:\n",
    "            print('Band {0}'.format(band))\n",
    "        band_data = band_info(band=band)\n",
    "        wavelengths = [1/band_data['min'], 1/band_data['max']]\n",
    "\n",
    "        F = flux(T_s, wavelengths)\n",
    "        F_total += F\n",
    "        \n",
    "    return F_total"
   ]
  },
  {
   "cell_type": "markdown",
   "id": "42afd1f6-6bb5-4f62-84a8-03408d0ac196",
   "metadata": {},
   "source": [
    "### Auxiliary functions"
   ]
  },
  {
   "cell_type": "markdown",
   "id": "9f465e56-661b-46ac-a382-5656df8069d9",
   "metadata": {},
   "source": [
    "#### Flux in a layered atmosphere\n",
    "\n",
    "Reference Lecture 3, Slide 19 from David Paynter"
   ]
  },
  {
   "cell_type": "code",
   "execution_count": 67,
   "id": "9e9f2396-94a9-41f9-b3a8-c333edd0af3b",
   "metadata": {},
   "outputs": [],
   "source": [
    "def flux_layered(atmosphere='CIRC2', gas_name='ALLGAS', bands='all', z='sfc'):\n",
    "    \n",
    "    transmittance_data = load(atmosphere=atmosphere, gas_name=gas_name)\n",
    "    \n",
    "    if bands == 'all':\n",
    "        bands = range(1, 15)\n",
    "    elif type(bands) is not list:\n",
    "        bands = [bands]\n",
    "    \n",
    "    # Initialize flux as 0\n",
    "    F = 0\n",
    "    \n",
    "    # Iterate over each band\n",
    "    for band in bands:\n",
    "        # Get data for iterand band\n",
    "        band_data = band_info(band=band)\n",
    "        # Get wavelength bounds for the band\n",
    "        wavelengths = [1/band_data['min'], 1/band_data['max']]\n",
    "\n",
    "        ''' Handle TOA fluxes. '''\n",
    "        # Term 1: Surface flux (intensity at surface * transmittance over depth of atmosphere)\n",
    "        # Term 2: Atmospheric layer fluxes (intensity at layer * transmittance over layer)\n",
    "        # Term 3: TOA fluxes (intensity at TOA * transmittance at TOA)\n",
    "        if z.lower() == 'toa':\n",
    "            # Get transmittance data at TOA\n",
    "            transmittance_data = transmittance_data.loc[transmittance_data['level'] == z.upper()]\n",
    "            # Get surface and TOA temperatures. This assumes that DataFrame is sorted by ascending height\n",
    "            T_s, T_toa = transmittance_data.iloc[0]['layer_temp'], transmittance_data.iloc[-1]['layer_temp']\n",
    "            \n",
    "            # Calculate first term in equation for F_{TOA} from Slide 19 of David Paynter's Lecture 3\n",
    "            term_1 = flux(T_s, wavelengths, N=100)*(transmittance_data.iloc[-1]['tb_{0}'.format(band)] - transmittance_data.iloc[0]['tb_{0}'.format(band)])\n",
    "\n",
    "            # Initialize term 2 flux (summation term from equation for F_{TOA} from Slide 19 of David Paynter's Lecture 3)\n",
    "            term_2 = 0\n",
    "            # Summation from top to bottom level, descending in height\n",
    "            for i in range(len(transmittance_data['layer_pres'])-1, 1, -1):\n",
    "                term_2_T = transmittance_data.iloc[i-1]['layer_temp']\n",
    "                term_2_F = flux(term_2_T, wavelengths, N=100)*(transmittance_data.iloc[i]['tb_{0}'.format(band)] - transmittance_data.iloc[i-1]['tb_{0}'.format(band)])\n",
    "                term_2 += term_2_F\n",
    "\n",
    "            # Calculate third term in equation for F_{TOA} from Slide 19 of David Paynter's Lecture 3\n",
    "            term_3 = flux(T_toa, wavelengths, N=100)*(1 - transmittance_data.iloc[-1]['tb_{0}'.format(band)])\n",
    "\n",
    "            F += term_1 + term_2 + term_3\n",
    "    \n",
    "        ''' Handle surface fluxes. '''\n",
    "        # Term 1: Surface flux (intensity at surface * transmittance over depth of atmosphere)\n",
    "        # Term 2: Atmospheric layer fluxes (intensity at layer * transmittance over layer)\n",
    "        # Term 3: TOA fluxes (intensity at TOA * transmittance at TOA)\n",
    "        if z.lower() == 'sfc':\n",
    "            # Get transmittance data at surface\n",
    "            transmittance_data = transmittance_data.loc[transmittance_data['level'] == z.upper()]\n",
    "            # Get surface and TOA temperatures. This assumes that DataFrame is sorted by ascending height\n",
    "            T_s, T_toa = transmittance_data.iloc[0]['layer_temp'], transmittance_data.iloc[-1]['layer_temp']\n",
    "\n",
    "            # Initialize term 1 flux (summation term from equation for F_{SFC} from Slide 19 of David Paynter's Lecture 3)\n",
    "            term_1 = 0\n",
    "            # Summation from bottom to top level, ascending in height\n",
    "            for i in range(1, len(transmittance_data['layer_pres'])-1):\n",
    "                term_1_T = transmittance_data.iloc[i+1]['layer_temp']\n",
    "                term_1_F = flux(term_1_T, wavelengths, N=100)*(transmittance_data.iloc[i]['tb_{0}'.format(band)] - transmittance_data.iloc[i+1]['tb_{0}'.format(band)])\n",
    "                term_1 += term_1_F\n",
    "                \n",
    "            # Calculate second term in equation for F_{SFC} from Slide 19 of David Paynter's Lecture 3\n",
    "            term_2 = flux(T_s, wavelengths, N=100)*(1 - transmittance_data.iloc[0]['tb_{0}'.format(band)])\n",
    "\n",
    "            F += term_1 + term_2\n",
    "    \n",
    "    return F"
   ]
  },
  {
   "cell_type": "markdown",
   "id": "43c87012-6e2e-4ff7-a912-12f4f2afa07b",
   "metadata": {},
   "source": [
    "#### Flux discretization function\n",
    "Integrates flux for a temperature over a given range of wavelengths using the trapezoidal method over $N$ intervals."
   ]
  },
  {
   "cell_type": "code",
   "execution_count": 63,
   "id": "3010e4c7-1fa6-4d10-ba46-81d659e5ad2c",
   "metadata": {},
   "outputs": [],
   "source": [
    "def flux(T, wavelengths, N=100):\n",
    "    # Get wavelength limits for the band\n",
    "    wavelength_max, wavelength_min = wavelengths\n",
    "    # Override fluxes for the last interval (lowest wavenumber, largest wavelength)\n",
    "    if wavelength_max == np.inf:\n",
    "        wavelength_max = 1e-2\n",
    "        \n",
    "    if diagnostics:\n",
    "        print('\\t Wavelength min.: {0:8.2e} m, Wavelength max.: {1:8.2e} m,'.format(wavelength_min, wavelength_max))\n",
    "    \n",
    "    # Discretize band into N subintervals\n",
    "    intervals = np.linspace(wavelength_min, wavelength_max, N)\n",
    "    # Initialize flux value\n",
    "    F = 0\n",
    "    # Calculate fluxes over all band subintervals\n",
    "    for i in range(0, len(intervals)-1):\n",
    "        F_ = (np.pi/2)*(B_wavelength(T, intervals[i]) + B_wavelength(T, intervals[i+1]))*(intervals[i+1] - intervals[i])\n",
    "        F += F_\n",
    "        if diagnostics:\n",
    "            print('\\t \\t Interval min.: {0:8.2e} m, Interval max.: {1:8.2e} m, Interval flux: {2:8.2e} W m^-2'.format(intervals[i], intervals[i+1], F_)) \n",
    "    \n",
    "    return F"
   ]
  },
  {
   "cell_type": "markdown",
   "id": "0438cf7d-5a1f-4e39-b583-48023ebe9dc1",
   "metadata": {},
   "source": [
    "#### Intensity source function\n",
    "Calculates the radiation intensity $B_{\\lambda}$ for a given temperature and wavelength.\n",
    "\n",
    "Reference: Goody & Yung (1995), Eq. 2.38"
   ]
  },
  {
   "cell_type": "code",
   "execution_count": 7,
   "id": "e0fea267-d949-4ba8-b7ae-a6fd250f987e",
   "metadata": {},
   "outputs": [],
   "source": [
    "def B_wavelength(T, wavelength):\n",
    "    \n",
    "    # Speed of light {c} (m s^-1)\n",
    "    c = 3e8\n",
    "    # Planck constant {h} (m^2 kg s^-1)\n",
    "    h = 6.626e-34\n",
    "    # Boltzmann constant {k} (m^2 kg s^-2 K^-1)\n",
    "    k = 1.381e-23\n",
    "    # Calculate radiation constants per Goody, Eqs. 2.39 and 2.40\n",
    "    C1 = 2*np.pi*h*c**2\n",
    "    C2 = h*c/k\n",
    "    # Calculate intensity per Goody, Eq. 2.38\n",
    "    B = C1/(wavelength**(5) * np.pi * (np.exp(C2/(wavelength*T)) - 1))\n",
    "    \n",
    "    return B"
   ]
  },
  {
   "cell_type": "markdown",
   "id": "ff3e6343-efb3-4318-a4c6-833c71ca582a",
   "metadata": {},
   "source": [
    "#### Stefan-Boltzmann flux (ideal blackbody radiation)"
   ]
  },
  {
   "cell_type": "code",
   "execution_count": 6,
   "id": "775b36e4-5b05-406a-987c-39f03ef0b039",
   "metadata": {},
   "outputs": [],
   "source": [
    "def sb(T):\n",
    "    return 5.67e-8 * T**4"
   ]
  },
  {
   "cell_type": "markdown",
   "id": "db1f16eb-f692-4796-bf9a-d449cb20a0a6",
   "metadata": {},
   "source": [
    "#### Band data constructor\n",
    "Generates Pandas DataFrame with band wavenumber data for accessing."
   ]
  },
  {
   "cell_type": "code",
   "execution_count": 5,
   "id": "9f39effd-2107-44d5-872e-946edec6e7e6",
   "metadata": {},
   "outputs": [],
   "source": [
    "def band_info(band=None):\n",
    "    # Define headers\n",
    "    header = ['band', 'min', 'max']\n",
    "    # Import data and set index to be band number\n",
    "    bands = pd.read_csv('data/bands_info.csv', names=header).set_index('band')\n",
    "    # Adjust units from cm^-1 to m^-1\n",
    "    bands = bands*100\n",
    "    # Calculate mean across each band\n",
    "    bands['mean'] = bands.mean(axis=1)\n",
    "\n",
    "    if band == 'all':\n",
    "        return bands\n",
    "    else:\n",
    "        return bands.iloc[band-1]"
   ]
  },
  {
   "cell_type": "markdown",
   "id": "9d63a039-a436-4f48-bd81-a1714c8b59c4",
   "metadata": {},
   "source": [
    "#### Gas transmittance data constructor\n",
    "Generates Pandas DataFrame with gas transmittances from surface to TOA for each gas for each atmosphere."
   ]
  },
  {
   "cell_type": "code",
   "execution_count": 78,
   "id": "20dbd1a2-647b-4c98-8678-53ee4e64b47b",
   "metadata": {},
   "outputs": [],
   "source": [
    "def load(atmosphere='CIRC2', gas_name='ALLGAS'):\n",
    "    ''' Method to load line-by-line transmittance data.\n",
    "    \n",
    "    Inputs:\n",
    "        - gas_name: Name of the gas for which data will be loaded. Default is 'ALLGAS'.\n",
    "        - atmosphere: Name of the CIRC profile data will be loaded for.\n",
    "    Outputs:\n",
    "        - gas_data: Pandas Dataframe with data for the selected gas.\n",
    "        \n",
    "    '''\n",
    "\n",
    "    # Define folder name where data files are stored\n",
    "    dirname = 'data'\n",
    "    # Get all paths for files where data that meets criteria is stored\n",
    "    files = [os.path.join(dirname, file) for file in os.listdir(dirname) if (file.split('/')[-1].split('_')[-2] == gas_name) and (atmosphere in file)]\n",
    "    # Define column header names (see project description document)\n",
    "    header = ['tb_{0}'.format(i-1) for i in range(2, 14+2)]\n",
    "    header.insert(0, 'layer_pres')\n",
    "    header.insert(0, 'layer_temp')\n",
    "    # Initialize output Dataframe\n",
    "    gas_data = []\n",
    "    # Fill Dataframe iteratively (iteration used to construct auxiliary data columns)\n",
    "    for file in files:\n",
    "        # Load data\n",
    "        tmp = pd.read_csv(file, sep='\\s+', names=header)\n",
    "        # Add column with atmospheric profile of data\n",
    "        tmp['atm_profile'] = file.split('/')[-1].split('_')[0]\n",
    "        # Add column with gas name\n",
    "        tmp['gas'] = file.split('/')[-1].split('_')[-2]\n",
    "        # Add column with level\n",
    "        tmp['level'] = file.split('.')[0].split('_')[-1]\n",
    "        # Append to list\n",
    "        gas_data.append(tmp)\n",
    "    # Concatenate Dataframes\n",
    "    gas_data = pd.concat(gas_data).reset_index(drop=True)\n",
    "    \n",
    "    return gas_data"
   ]
  },
  {
   "cell_type": "code",
   "execution_count": 59,
   "id": "4d30946f-b55f-448f-b298-368c6c4fea05",
   "metadata": {},
   "outputs": [],
   "source": [
    "def converter(input_value=None, input_type=None, output_type=None):\n",
    "    \n",
    "    # Takes and returns frequency and wavelengths in SI units (mKs), wavenumber in cm^-1\n",
    "    \n",
    "    output_value = None\n",
    "    c = 3e8 # m\n",
    "    \n",
    "    if output_type == 'wavenumber':\n",
    "        if input_type == 'frequency':\n",
    "            frequency = input_value\n",
    "            wavelength = c/frequency\n",
    "            output_value = 1/wavelength/100\n",
    "        elif input_type == 'wavelength':\n",
    "            wavelength = input_value\n",
    "            output_value = 1/wavelength/100\n",
    "            \n",
    "    elif output_type == 'wavelength':\n",
    "        if input_type == 'frequency':\n",
    "            frequency = input_value\n",
    "            output_value = c/frequency\n",
    "        elif input_type == 'wavenumber':\n",
    "            wavenumber = input_value\n",
    "            output_value = 1/wavenumber/100\n",
    "            \n",
    "    elif output_type == 'frequency':\n",
    "        if input_type == 'wavelength':\n",
    "            wavelength = input_value\n",
    "            output_value = c/wavelength\n",
    "        elif input_type == 'wavenumber':\n",
    "            wavenumber = input_value\n",
    "            wavelength = 100/wavenumber\n",
    "            output_value = c/wavelength\n",
    "            \n",
    "    return output_value"
   ]
  }
 ],
 "metadata": {
  "kernelspec": {
   "display_name": "Python 3 (ipykernel)",
   "language": "python",
   "name": "python3"
  },
  "language_info": {
   "codemirror_mode": {
    "name": "ipython",
    "version": 3
   },
   "file_extension": ".py",
   "mimetype": "text/x-python",
   "name": "python",
   "nbconvert_exporter": "python",
   "pygments_lexer": "ipython3",
   "version": "3.10.5"
  }
 },
 "nbformat": 4,
 "nbformat_minor": 5
}
